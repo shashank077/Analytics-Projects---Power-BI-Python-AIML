{
 "cells": [
  {
   "cell_type": "code",
   "execution_count": 1,
   "metadata": {
    "id": "ERnOCcsU_zr9"
   },
   "outputs": [],
   "source": [
    "#Q2c\n",
    "import pandas as pd\n",
    "import matplotlib.pyplot as plt\n",
    "import seaborn as sn\n",
    "import numpy as np"
   ]
  },
  {
   "cell_type": "code",
   "execution_count": 2,
   "metadata": {
    "id": "iaXbHn1p_7YK"
   },
   "outputs": [],
   "source": [
    "\n",
    "import pandas as pd\n",
    "df = pd.read_excel('/content/sample_data/Movie release.xlsx')\n"
   ]
  },
  {
   "cell_type": "code",
   "execution_count": 3,
   "metadata": {
    "colab": {
     "base_uri": "https://localhost:8080/"
    },
    "id": "fVmfrzAnADYy",
    "outputId": "5f567adc-e581-4330-d8e3-9905cddf089c"
   },
   "outputs": [
    {
     "name": "stdout",
     "output_type": "stream",
     "text": [
      "SrNo                    0\n",
      "Movie                   0\n",
      "Distributor             0\n",
      "Genre                   0\n",
      "7-day Gross            55\n",
      "14-day Gross           62\n",
      "Total US Gross          0\n",
      "International Gross    23\n",
      "US DVD Sales           39\n",
      "Budget                 73\n",
      "dtype: int64\n",
      "(85, 10)\n"
     ]
    }
   ],
   "source": [
    "\n",
    "# Print the number of missing values in each column\n",
    "print(df.isnull().sum())\n",
    "\n",
    "# Remove rows with missing values\n",
    "df_cleaned = df.dropna()\n",
    "\n",
    "# Print the shape of the cleaned DataFrame (to see how many rows were removed)\n",
    "print(df_cleaned.shape)\n"
   ]
  },
  {
   "cell_type": "code",
   "execution_count": 4,
   "metadata": {
    "colab": {
     "base_uri": "https://localhost:8080/"
    },
    "id": "8YaxvcHzAdlI",
    "outputId": "56f4e3f7-c7aa-4d49-b9cc-2799fe13299a"
   },
   "outputs": [
    {
     "name": "stdout",
     "output_type": "stream",
     "text": [
      "Percentage of movies left: 40.28%\n"
     ]
    }
   ],
   "source": [
    "\n",
    "\n",
    "original_rows = df.shape[0]\n",
    "cleaned_rows = df_cleaned.shape[0]\n",
    "\n",
    "percentage_left = (cleaned_rows / original_rows) * 100\n",
    "\n",
    "print(f\"Percentage of movies left: {percentage_left:.2f}%\")\n"
   ]
  },
  {
   "cell_type": "code",
   "execution_count": 5,
   "metadata": {
    "colab": {
     "base_uri": "https://localhost:8080/"
    },
    "id": "gXQNgHCDCXW4",
    "outputId": "81d6dc60-4297-468f-960d-8e3661d38aaa"
   },
   "outputs": [
    {
     "name": "stdout",
     "output_type": "stream",
     "text": [
      "Correlation Matrix:\n",
      "                         SrNo  7-day Gross  14-day Gross  Total US Gross  \\\n",
      "SrNo                 1.000000    -0.238171     -0.211051       -0.161922   \n",
      "7-day Gross         -0.238171     1.000000      0.993062        0.954645   \n",
      "14-day Gross        -0.211051     0.993062      1.000000        0.980731   \n",
      "Total US Gross      -0.161922     0.954645      0.980731        1.000000   \n",
      "International Gross -0.258814     0.887572      0.891299        0.879136   \n",
      "US DVD Sales        -0.067472     0.789241      0.812738        0.856810   \n",
      "Budget              -0.219239     0.756366      0.747319        0.720679   \n",
      "\n",
      "                     International Gross  US DVD Sales    Budget  \n",
      "SrNo                           -0.258814     -0.067472 -0.219239  \n",
      "7-day Gross                     0.887572      0.789241  0.756366  \n",
      "14-day Gross                    0.891299      0.812738  0.747319  \n",
      "Total US Gross                  0.879136      0.856810  0.720679  \n",
      "International Gross             1.000000      0.776093  0.782051  \n",
      "US DVD Sales                    0.776093      1.000000  0.608913  \n",
      "Budget                          0.782051      0.608913  1.000000  \n",
      "\n",
      "Variance of Each Variable:\n",
      "SrNo                   4.036543e+03\n",
      "7-day Gross            1.226143e+15\n",
      "14-day Gross           2.541257e+15\n",
      "Total US Gross         5.567433e+15\n",
      "International Gross    1.614005e+16\n",
      "US DVD Sales           3.086709e+15\n",
      "Budget                 3.034383e+15\n",
      "dtype: float64\n",
      "\n",
      "Correlation Matrix of Principal Components:\n",
      "              0             1             2             3             4  \\\n",
      "0  1.000000e+00  8.775131e-17 -3.832289e-16  8.681075e-16 -2.055255e-16   \n",
      "1  8.775131e-17  1.000000e+00 -6.254282e-17  9.874541e-17 -2.938065e-16   \n",
      "2 -3.832289e-16 -6.254282e-17  1.000000e+00  1.009171e-16  1.724944e-16   \n",
      "3  8.681075e-16  9.874541e-17  1.009171e-16  1.000000e+00 -5.211996e-16   \n",
      "4 -2.055255e-16 -2.938065e-16  1.724944e-16 -5.211996e-16  1.000000e+00   \n",
      "5 -1.984046e-16 -1.773764e-16  2.352131e-15 -2.764046e-15 -7.965383e-15   \n",
      "6 -7.258721e-15 -5.790500e-15  1.478193e-14 -8.207088e-15 -7.747898e-15   \n",
      "\n",
      "              5             6  \n",
      "0 -1.984046e-16 -7.258721e-15  \n",
      "1 -1.773764e-16 -5.790500e-15  \n",
      "2  2.352131e-15  1.478193e-14  \n",
      "3 -2.764046e-15 -8.207088e-15  \n",
      "4 -7.965383e-15 -7.747898e-15  \n",
      "5  1.000000e+00 -8.822256e-14  \n",
      "6 -8.822256e-14  1.000000e+00  \n",
      "\n",
      "Variance of Each Principal Component:\n",
      "[7.45498914e-01 1.40126236e-01 5.71682253e-02 3.30246533e-02\n",
      " 1.91187540e-02 4.93577642e-03 1.27441060e-04]\n",
      "\n",
      "Number of principal components to retain 90% variance: 3\n"
     ]
    }
   ],
   "source": [
    "#Q4b\n",
    "import pandas as pd\n",
    "import matplotlib.pyplot as plt\n",
    "import seaborn as sn\n",
    "import numpy as np\n",
    "from sklearn.preprocessing import StandardScaler\n",
    "from sklearn.decomposition import PCA\n",
    "\n",
    "# Delete categorical values\n",
    "df_numeric = df_cleaned.select_dtypes(include=np.number)\n",
    "\n",
    "# Display correlation matrix\n",
    "correlation_matrix = df_numeric.corr()\n",
    "print(\"Correlation Matrix:\")\n",
    "print(correlation_matrix)\n",
    "\n",
    "# Display variance of each variable\n",
    "variance = df_numeric.var()\n",
    "print(\"\\nVariance of Each Variable:\")\n",
    "print(variance)\n",
    "\n",
    "# Perform PCA on standardized variables\n",
    "x = StandardScaler().fit_transform(df_numeric)\n",
    "pca = PCA()\n",
    "principalComponents = pca.fit_transform(x)\n",
    "\n",
    "# Display correlation matrix of principal components\n",
    "principalDf = pd.DataFrame(data = principalComponents)\n",
    "correlation_matrix_pca = principalDf.corr()\n",
    "print(\"\\nCorrelation Matrix of Principal Components:\")\n",
    "print(correlation_matrix_pca)\n",
    "\n",
    "# Display variance of each principal component\n",
    "explained_variance = pca.explained_variance_ratio_\n",
    "print(\"\\nVariance of Each Principal Component:\")\n",
    "print(explained_variance)\n",
    "\n",
    "\n",
    "# Find principal components sufficient to retain 90% of variance\n",
    "cumulative_variance = np.cumsum(explained_variance)\n",
    "n_components_90 = np.argmax(cumulative_variance >= 0.90) + 1\n",
    "print(f\"\\nNumber of principal components to retain 90% variance: {n_components_90}\")\n"
   ]
  }
 ],
 "metadata": {
  "colab": {
   "provenance": []
  },
  "kernelspec": {
   "display_name": "Python 3 (ipykernel)",
   "language": "python",
   "name": "python3"
  },
  "language_info": {
   "codemirror_mode": {
    "name": "ipython",
    "version": 3
   },
   "file_extension": ".py",
   "mimetype": "text/x-python",
   "name": "python",
   "nbconvert_exporter": "python",
   "pygments_lexer": "ipython3",
   "version": "3.11.5"
  }
 },
 "nbformat": 4,
 "nbformat_minor": 1
}
